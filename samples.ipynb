{
 "cells": [
  {
   "cell_type": "code",
   "execution_count": 1,
   "metadata": {},
   "outputs": [],
   "source": [
    "#"
   ]
  },
  {
   "cell_type": "code",
   "execution_count": 2,
   "metadata": {},
   "outputs": [],
   "source": [
    "import numpy\n",
    "import pandas"
   ]
  },
  {
   "cell_type": "code",
   "execution_count": 3,
   "metadata": {},
   "outputs": [],
   "source": [
    "from mpydge.wrap.data import DataHandler\n",
    "from mpydge.wrap.utils.masks import TimeSerialCV\n",
    "from mpydge.wrap.models.all import OLR"
   ]
  },
  {
   "cell_type": "code",
   "execution_count": 4,
   "metadata": {},
   "outputs": [],
   "source": [
    "# Data"
   ]
  },
  {
   "cell_type": "code",
   "execution_count": 5,
   "metadata": {},
   "outputs": [
    {
     "data": {
      "text/html": [
       "<div>\n",
       "<style scoped>\n",
       "    .dataframe tbody tr th:only-of-type {\n",
       "        vertical-align: middle;\n",
       "    }\n",
       "\n",
       "    .dataframe tbody tr th {\n",
       "        vertical-align: top;\n",
       "    }\n",
       "\n",
       "    .dataframe thead th {\n",
       "        text-align: right;\n",
       "    }\n",
       "</style>\n",
       "<table border=\"1\" class=\"dataframe\">\n",
       "  <thead>\n",
       "    <tr style=\"text-align: right;\">\n",
       "      <th></th>\n",
       "      <th>A</th>\n",
       "      <th>B</th>\n",
       "      <th>C</th>\n",
       "    </tr>\n",
       "  </thead>\n",
       "  <tbody>\n",
       "    <tr>\n",
       "      <th>0</th>\n",
       "      <td>0</td>\n",
       "      <td>0.526765</td>\n",
       "      <td>0.716965</td>\n",
       "    </tr>\n",
       "    <tr>\n",
       "      <th>1</th>\n",
       "      <td>1</td>\n",
       "      <td>-0.812791</td>\n",
       "      <td>0.837358</td>\n",
       "    </tr>\n",
       "    <tr>\n",
       "      <th>2</th>\n",
       "      <td>2</td>\n",
       "      <td>2.567620</td>\n",
       "      <td>-0.367745</td>\n",
       "    </tr>\n",
       "    <tr>\n",
       "      <th>3</th>\n",
       "      <td>3</td>\n",
       "      <td>2.995948</td>\n",
       "      <td>0.274239</td>\n",
       "    </tr>\n",
       "    <tr>\n",
       "      <th>4</th>\n",
       "      <td>4</td>\n",
       "      <td>4.296597</td>\n",
       "      <td>-0.855605</td>\n",
       "    </tr>\n",
       "    <tr>\n",
       "      <th>...</th>\n",
       "      <td>...</td>\n",
       "      <td>...</td>\n",
       "      <td>...</td>\n",
       "    </tr>\n",
       "    <tr>\n",
       "      <th>9995</th>\n",
       "      <td>9995</td>\n",
       "      <td>9995.959365</td>\n",
       "      <td>-1.272870</td>\n",
       "    </tr>\n",
       "    <tr>\n",
       "      <th>9996</th>\n",
       "      <td>9996</td>\n",
       "      <td>9996.102119</td>\n",
       "      <td>-0.820552</td>\n",
       "    </tr>\n",
       "    <tr>\n",
       "      <th>9997</th>\n",
       "      <td>9997</td>\n",
       "      <td>9997.902585</td>\n",
       "      <td>-0.015693</td>\n",
       "    </tr>\n",
       "    <tr>\n",
       "      <th>9998</th>\n",
       "      <td>9998</td>\n",
       "      <td>9999.077207</td>\n",
       "      <td>0.789261</td>\n",
       "    </tr>\n",
       "    <tr>\n",
       "      <th>9999</th>\n",
       "      <td>9999</td>\n",
       "      <td>9998.088979</td>\n",
       "      <td>-0.202519</td>\n",
       "    </tr>\n",
       "  </tbody>\n",
       "</table>\n",
       "<p>10000 rows × 3 columns</p>\n",
       "</div>"
      ],
      "text/plain": [
       "         A            B         C\n",
       "0        0     0.526765  0.716965\n",
       "1        1    -0.812791  0.837358\n",
       "2        2     2.567620 -0.367745\n",
       "3        3     2.995948  0.274239\n",
       "4        4     4.296597 -0.855605\n",
       "...    ...          ...       ...\n",
       "9995  9995  9995.959365 -1.272870\n",
       "9996  9996  9996.102119 -0.820552\n",
       "9997  9997  9997.902585 -0.015693\n",
       "9998  9998  9999.077207  0.789261\n",
       "9999  9999  9998.088979 -0.202519\n",
       "\n",
       "[10000 rows x 3 columns]"
      ]
     },
     "execution_count": 5,
     "metadata": {},
     "output_type": "execute_result"
    }
   ],
   "source": [
    "N = 10_000\n",
    "dataframe = pandas.DataFrame(data={'A': numpy.array(numpy.arange(N)), \n",
    "                              'B': numpy.array(numpy.arange(N)) + numpy.random.normal(size=(N,)), \n",
    "                              'C': numpy.random.normal(size=(N,))})\n",
    "dataframe"
   ]
  },
  {
   "cell_type": "code",
   "execution_count": 6,
   "metadata": {},
   "outputs": [],
   "source": [
    "target = 'A'\n",
    "quantitative = ['B', 'C']\n",
    "qualitative = []"
   ]
  },
  {
   "cell_type": "code",
   "execution_count": 7,
   "metadata": {},
   "outputs": [
    {
     "data": {
      "text/plain": [
       "<mpydge.wrap.data.DataHandler at 0x1fac6b218b0>"
      ]
     },
     "execution_count": 7,
     "metadata": {},
     "output_type": "execute_result"
    }
   ],
   "source": [
    "data = DataHandler(data_frame=dataframe, target=target, quantitative=quantitative, qualitative=qualitative)\n",
    "data"
   ]
  },
  {
   "cell_type": "code",
   "execution_count": 8,
   "metadata": {},
   "outputs": [],
   "source": [
    "ts = TimeSerialCV(data.mask.d0)"
   ]
  },
  {
   "cell_type": "code",
   "execution_count": 9,
   "metadata": {},
   "outputs": [],
   "source": [
    "old_d0 = data.mask.d0"
   ]
  },
  {
   "cell_type": "code",
   "execution_count": 10,
   "metadata": {},
   "outputs": [
    {
     "data": {
      "text/plain": [
       "(array([ True,  True,  True, ..., False, False, False]),\n",
       " array([False, False, False, ..., False, False, False]),\n",
       " array([False, False, False, ...,  True,  True,  True]))"
      ]
     },
     "execution_count": 10,
     "metadata": {},
     "output_type": "execute_result"
    }
   ],
   "source": [
    "ts.triple(0)"
   ]
  },
  {
   "cell_type": "code",
   "execution_count": 11,
   "metadata": {},
   "outputs": [
    {
     "data": {
      "text/plain": [
       "(array([[ 1.59734746e+03,  1.01806889e-01],\n",
       "        [ 1.59952342e+03,  5.65143451e-01],\n",
       "        [ 1.60130689e+03, -3.70073740e-02],\n",
       "        ...,\n",
       "        [ 3.19843961e+03,  9.63102570e-01],\n",
       "        [ 3.19582007e+03,  4.33626799e-01],\n",
       "        [ 3.19828998e+03, -3.87763398e-01]]),\n",
       " array([[1599],\n",
       "        [1600],\n",
       "        [1601],\n",
       "        ...,\n",
       "        [3196],\n",
       "        [3197],\n",
       "        [3198]]))"
      ]
     },
     "execution_count": 11,
     "metadata": {},
     "output_type": "execute_result"
    }
   ],
   "source": [
    "data.mask.d0 = ts.triple(0)[1]\n",
    "data.values"
   ]
  },
  {
   "cell_type": "code",
   "execution_count": 12,
   "metadata": {},
   "outputs": [
    {
     "data": {
      "text/plain": [
       "(array([False, False, False, ..., False, False, False]),\n",
       " array([False, False, False, ..., False, False, False]),\n",
       " array([False, False, False, ...,  True,  True,  True]))"
      ]
     },
     "execution_count": 12,
     "metadata": {},
     "output_type": "execute_result"
    }
   ],
   "source": [
    "ts.triple(1)"
   ]
  },
  {
   "cell_type": "code",
   "execution_count": 13,
   "metadata": {},
   "outputs": [
    {
     "data": {
      "text/plain": [
       "(array([[ 3.19928927e+03, -1.61686661e+00],\n",
       "        [ 3.19888150e+03, -1.80796210e-01],\n",
       "        [ 3.20139474e+03,  5.35529895e-01],\n",
       "        ...,\n",
       "        [ 4.79555490e+03,  1.38342689e+00],\n",
       "        [ 4.79664871e+03, -4.14017973e-01],\n",
       "        [ 4.80050711e+03,  4.39559557e-01]]),\n",
       " array([[3199],\n",
       "        [3200],\n",
       "        [3201],\n",
       "        ...,\n",
       "        [4796],\n",
       "        [4797],\n",
       "        [4798]]))"
      ]
     },
     "execution_count": 13,
     "metadata": {},
     "output_type": "execute_result"
    }
   ],
   "source": [
    "data.mask.d0 = ts.triple(1)[1]\n",
    "data.values"
   ]
  },
  {
   "cell_type": "code",
   "execution_count": 14,
   "metadata": {},
   "outputs": [
    {
     "data": {
      "text/plain": [
       "5"
      ]
     },
     "execution_count": 14,
     "metadata": {},
     "output_type": "execute_result"
    }
   ],
   "source": [
    "ts.n_folds"
   ]
  },
  {
   "cell_type": "code",
   "execution_count": 15,
   "metadata": {},
   "outputs": [
    {
     "data": {
      "text/plain": [
       "(array([False, False, False, ..., False, False, False]),\n",
       " array([False, False, False, ..., False, False, False]),\n",
       " array([False, False, False, ...,  True,  True,  True]))"
      ]
     },
     "execution_count": 15,
     "metadata": {},
     "output_type": "execute_result"
    }
   ],
   "source": [
    "ts.triple(3)"
   ]
  },
  {
   "cell_type": "code",
   "execution_count": 16,
   "metadata": {},
   "outputs": [
    {
     "data": {
      "text/plain": [
       "(array([[ 4.80161875e+03, -1.48728165e+00],\n",
       "        [ 4.79869639e+03,  1.65716636e+00],\n",
       "        [ 4.80262951e+03, -3.33489356e-01],\n",
       "        ...,\n",
       "        [ 6.39528566e+03,  6.55252866e-01],\n",
       "        [ 6.39655621e+03,  5.70597145e-01],\n",
       "        [ 6.39740649e+03, -1.57118470e+00]]),\n",
       " array([[4799],\n",
       "        [4800],\n",
       "        [4801],\n",
       "        ...,\n",
       "        [6396],\n",
       "        [6397],\n",
       "        [6398]]))"
      ]
     },
     "execution_count": 16,
     "metadata": {},
     "output_type": "execute_result"
    }
   ],
   "source": [
    "data.mask.d0 = ts.triple(3)[0]\n",
    "data.values"
   ]
  },
  {
   "cell_type": "code",
   "execution_count": 17,
   "metadata": {},
   "outputs": [
    {
     "data": {
      "text/plain": [
       "(array([[ 6.39832215e+03,  4.73573282e-01],\n",
       "        [ 6.39778950e+03,  1.02388518e+00],\n",
       "        [ 6.40136056e+03, -4.29314642e-01],\n",
       "        ...,\n",
       "        [ 7.99561973e+03, -8.44822905e-01],\n",
       "        [ 7.99600429e+03, -1.05330136e+00],\n",
       "        [ 7.99550656e+03,  9.62092052e-01]]),\n",
       " array([[6399],\n",
       "        [6400],\n",
       "        [6401],\n",
       "        ...,\n",
       "        [7996],\n",
       "        [7997],\n",
       "        [7998]]))"
      ]
     },
     "execution_count": 17,
     "metadata": {},
     "output_type": "execute_result"
    }
   ],
   "source": [
    "data.mask.d0 = ts.triple(3)[1]\n",
    "data.values"
   ]
  },
  {
   "cell_type": "code",
   "execution_count": 18,
   "metadata": {},
   "outputs": [
    {
     "data": {
      "text/plain": [
       "(array([False, False, False, ..., False, False, False]),\n",
       " array([False, False, False, ..., False, False, False]),\n",
       " array([False, False, False, ...,  True,  True,  True]))"
      ]
     },
     "execution_count": 18,
     "metadata": {},
     "output_type": "execute_result"
    }
   ],
   "source": [
    "ts.triple(4)"
   ]
  },
  {
   "cell_type": "code",
   "execution_count": 19,
   "metadata": {},
   "outputs": [
    {
     "data": {
      "text/plain": [
       "(array([[ 6.39832215e+03,  4.73573282e-01],\n",
       "        [ 6.39778950e+03,  1.02388518e+00],\n",
       "        [ 6.40136056e+03, -4.29314642e-01],\n",
       "        ...,\n",
       "        [ 7.99561973e+03, -8.44822905e-01],\n",
       "        [ 7.99600429e+03, -1.05330136e+00],\n",
       "        [ 7.99550656e+03,  9.62092052e-01]]),\n",
       " array([[6399],\n",
       "        [6400],\n",
       "        [6401],\n",
       "        ...,\n",
       "        [7996],\n",
       "        [7997],\n",
       "        [7998]]))"
      ]
     },
     "execution_count": 19,
     "metadata": {},
     "output_type": "execute_result"
    }
   ],
   "source": [
    "data.mask.d0 = ts.triple(4)[1]\n",
    "data.values"
   ]
  },
  {
   "cell_type": "code",
   "execution_count": 20,
   "metadata": {},
   "outputs": [
    {
     "data": {
      "text/plain": [
       "(array([[ 6.39832215e+03,  4.73573282e-01],\n",
       "        [ 6.39778950e+03,  1.02388518e+00],\n",
       "        [ 6.40136056e+03, -4.29314642e-01],\n",
       "        ...,\n",
       "        [ 7.99561973e+03, -8.44822905e-01],\n",
       "        [ 7.99600429e+03, -1.05330136e+00],\n",
       "        [ 7.99550656e+03,  9.62092052e-01]]),\n",
       " array([[6399],\n",
       "        [6400],\n",
       "        [6401],\n",
       "        ...,\n",
       "        [7996],\n",
       "        [7997],\n",
       "        [7998]]))"
      ]
     },
     "execution_count": 20,
     "metadata": {},
     "output_type": "execute_result"
    }
   ],
   "source": [
    "data.mask.d0 = ts.triple(4)[0]\n",
    "data.values"
   ]
  },
  {
   "cell_type": "code",
   "execution_count": 21,
   "metadata": {},
   "outputs": [
    {
     "data": {
      "text/plain": [
       "(array([[ 7.99861499e+03, -4.25185005e-01],\n",
       "        [ 8.00019420e+03, -4.64170107e-01],\n",
       "        [ 8.00034591e+03, -5.91492898e-02],\n",
       "        ...,\n",
       "        [ 9.99790258e+03, -1.56932739e-02],\n",
       "        [ 9.99907721e+03,  7.89260654e-01],\n",
       "        [ 9.99808898e+03, -2.02518503e-01]]),\n",
       " array([[7999],\n",
       "        [8000],\n",
       "        [8001],\n",
       "        ...,\n",
       "        [9997],\n",
       "        [9998],\n",
       "        [9999]]))"
      ]
     },
     "execution_count": 21,
     "metadata": {},
     "output_type": "execute_result"
    }
   ],
   "source": [
    "data.mask.d0 = ts.triple(4)[2]\n",
    "data.values"
   ]
  },
  {
   "cell_type": "code",
   "execution_count": null,
   "metadata": {},
   "outputs": [],
   "source": []
  },
  {
   "cell_type": "code",
   "execution_count": 22,
   "metadata": {},
   "outputs": [],
   "source": [
    "from sklearn.preprocessing import StandardScaler"
   ]
  },
  {
   "cell_type": "code",
   "execution_count": null,
   "metadata": {},
   "outputs": [],
   "source": []
  },
  {
   "cell_type": "code",
   "execution_count": 23,
   "metadata": {},
   "outputs": [
    {
     "data": {
      "text/plain": [
       "<mpydge.wrap.models.all.OLR at 0x1fac378da00>"
      ]
     },
     "execution_count": 23,
     "metadata": {},
     "output_type": "execute_result"
    }
   ],
   "source": [
    "model = OLR(data, preprocessor=StandardScaler)\n",
    "model"
   ]
  },
  {
   "cell_type": "code",
   "execution_count": 24,
   "metadata": {},
   "outputs": [],
   "source": [
    "ts = TimeSerialCV(data.mask.d0)"
   ]
  },
  {
   "cell_type": "code",
   "execution_count": 25,
   "metadata": {},
   "outputs": [],
   "source": [
    "model.data.mask.d0 = ts.triple(0)[0]\n",
    "model.fit()"
   ]
  },
  {
   "cell_type": "code",
   "execution_count": 26,
   "metadata": {},
   "outputs": [
    {
     "data": {
      "text/plain": [
       "array([7998.46106086, 8000.03907733, 8000.20821041, 8001.8219656 ,\n",
       "       8000.79500999, 8003.25928448, 8004.87610445, 8005.54393971,\n",
       "       8007.80054528, 8008.4628059 , 8010.09388833, 8011.44327301,\n",
       "       8010.21616392, 8011.383008  , 8012.63336677, 8012.61825587,\n",
       "       8014.72047263, 8015.47170049, 8015.49648332, 8017.74102755,\n",
       "       8018.91465012, 8019.04682326, 8019.79276537, 8020.00126836,\n",
       "       8023.2835324 , 8024.35940806, 8024.87363545, 8027.11664358,\n",
       "       8026.31349507, 8028.93570912, 8029.23506156, 8030.39679117,\n",
       "       8032.29468268, 8032.47566042, 8032.50491738, 8033.15982734,\n",
       "       8036.60012759, 8038.0411227 , 8036.10344122, 8039.58885561,\n",
       "       8039.43051523, 8039.7452921 , 8043.11097442, 8041.17886858,\n",
       "       8043.560888  , 8043.8508006 , 8044.48717461, 8044.81454106,\n",
       "       8046.40780881, 8048.02087991, 8048.47133104, 8050.06448687,\n",
       "       8051.42826596, 8051.95728305, 8052.69236772, 8053.61020147,\n",
       "       8056.35637788, 8056.17407459, 8057.06227257, 8058.14858549,\n",
       "       8060.6621798 , 8057.58822375, 8061.39261694, 8063.33418498,\n",
       "       8064.73495603, 8063.77414479, 8065.09101088, 8067.21917898,\n",
       "       8066.62623965, 8068.86777951, 8070.02518461, 8068.77288012,\n",
       "       8068.72127467, 8072.13299897, 8073.66742252, 8074.26600408,\n",
       "       8074.4511886 , 8077.32301162, 8077.94176807, 8078.33501189,\n",
       "       8079.41895245, 8079.27694775, 8080.46255081, 8081.96657318,\n",
       "       8084.30362783, 8084.67176059, 8087.21244004, 8086.38882298,\n",
       "       8086.55125592, 8087.68442464, 8089.43015557, 8091.83996435,\n",
       "       8090.8819885 , 8091.92100085, 8092.7279784 , 8092.96249416,\n",
       "       8095.42807833, 8094.51851099, 8096.86588005, 8096.70384066,\n",
       "       8098.69691338, 8099.99236123, 8102.01086041, 8101.69262733,\n",
       "       8103.82346244, 8104.45685712, 8105.77232482, 8106.5203998 ,\n",
       "       8106.65126057, 8108.37051234, 8109.13352627, 8111.1047638 ,\n",
       "       8109.90883976, 8111.59092481, 8111.79833205, 8114.00938823,\n",
       "       8115.19513862, 8116.19565458, 8116.56071163, 8117.46453131,\n",
       "       8119.77643161, 8118.82414346, 8121.29161151, 8121.8598942 ,\n",
       "       8122.87830675, 8123.73642032, 8126.06013357, 8126.24067959,\n",
       "       8127.93779771, 8127.66759367, 8129.81096756, 8129.93224779,\n",
       "       8130.64766643, 8131.6041347 , 8134.56757694, 8134.40353668,\n",
       "       8134.2742187 , 8135.5316181 , 8136.28540511, 8137.46711809,\n",
       "       8139.2490702 , 8140.82461799, 8140.89185167, 8140.63773715,\n",
       "       8143.71239848, 8144.97453173, 8143.39334806, 8145.78912809,\n",
       "       8148.05282508, 8147.39742679, 8148.82743304, 8151.57898968,\n",
       "       8150.93453361, 8151.70886105, 8151.5964137 , 8154.10590527,\n",
       "       8155.71257179, 8155.43110949, 8158.02589508, 8157.95741166,\n",
       "       8159.54911611, 8159.20031377, 8161.81782326, 8163.6474545 ,\n",
       "       8163.88979386, 8163.31792615, 8165.34458877, 8163.91089426,\n",
       "       8165.84439719, 8166.95307838, 8168.53699491, 8170.94061184,\n",
       "       8170.73377763, 8171.26118755, 8172.70451763, 8174.80849643,\n",
       "       8173.65970765, 8175.20527768, 8176.74387158, 8178.8195354 ,\n",
       "       8178.89789945, 8181.53742609, 8180.63659983, 8181.55678701,\n",
       "       8183.14714461, 8185.75288066, 8186.19546282, 8186.91215075,\n",
       "       8188.38362559, 8187.14094069, 8190.51335542, 8188.8640581 ,\n",
       "       8191.25850466, 8192.02600566, 8190.99481091, 8193.3199611 ,\n",
       "       8192.94334078, 8194.99297364, 8196.83914315, 8198.52059268,\n",
       "       8199.47589398, 8200.07439156, 8201.15999836, 8202.1274355 ,\n",
       "       8203.30763564, 8205.951297  , 8205.56057069, 8204.98817051,\n",
       "       8206.25777751, 8207.42483819, 8209.03977018, 8209.46735907,\n",
       "       8211.11971408, 8212.00105461, 8214.07282497, 8214.02641458,\n",
       "       8216.00555793, 8215.77338124, 8218.23340782, 8216.54463871,\n",
       "       8218.43987596, 8220.46043478, 8221.23358256, 8220.37551787,\n",
       "       8221.72674388, 8226.09052362, 8225.10580152, 8226.51907401,\n",
       "       8226.1328913 , 8229.70802192, 8229.14927689, 8230.10466277,\n",
       "       8231.10417147, 8231.36244262, 8233.82331217, 8231.97408037,\n",
       "       8234.27529228, 8235.2000695 , 8236.8207065 , 8236.95232585,\n",
       "       8238.68097052, 8241.21715133, 8241.41000197, 8240.61235144,\n",
       "       8241.61948092, 8242.50259841, 8247.03057223, 8245.84268791,\n",
       "       8247.34069299, 8249.4341259 , 8249.00719869, 8249.09766544,\n",
       "       8250.37067608, 8252.68667685, 8253.91669865, 8252.31527561,\n",
       "       8255.82990655, 8258.41155287, 8256.46748804, 8259.975964  ,\n",
       "       8257.95937786, 8257.84563547, 8261.30911275, 8260.61810402,\n",
       "       8260.13088425, 8261.65882355, 8264.35326081, 8265.1889263 ,\n",
       "       8265.22515163, 8269.0096724 , 8269.16221175, 8269.58877337,\n",
       "       8271.47048037, 8270.16757916, 8274.61218285, 8274.6944366 ,\n",
       "       8274.66745035, 8277.16558383, 8278.89837441, 8278.52330213,\n",
       "       8278.44909085, 8280.15461969, 8280.77305259, 8282.2604839 ,\n",
       "       8283.34575378, 8285.08678417, 8283.88463702, 8285.57575378,\n",
       "       8286.2720594 , 8288.61109075, 8290.4861419 , 8292.57153752,\n",
       "       8289.50201393, 8291.30868827, 8293.22387129, 8292.81347335,\n",
       "       8293.8719112 , 8294.40906569, 8296.62168412, 8297.81953256,\n",
       "       8299.76216634, 8299.00495939, 8300.55549751, 8301.53949942,\n",
       "       8303.18889915, 8305.46488087, 8306.23857588, 8306.81608245,\n",
       "       8306.7235277 , 8308.65642884, 8309.35427785, 8308.91643377,\n",
       "       8309.35782974, 8313.58691606, 8312.57023051, 8314.93516619,\n",
       "       8316.08913151, 8316.67580552, 8317.61890367])"
      ]
     },
     "execution_count": 26,
     "metadata": {},
     "output_type": "execute_result"
    }
   ],
   "source": [
    "model.predict()"
   ]
  },
  {
   "cell_type": "code",
   "execution_count": 27,
   "metadata": {},
   "outputs": [
    {
     "data": {
      "text/plain": [
       "0.999885435576831"
      ]
     },
     "execution_count": 27,
     "metadata": {},
     "output_type": "execute_result"
    }
   ],
   "source": [
    "model.score(measure='r2_adj', ts_report=False)"
   ]
  },
  {
   "cell_type": "code",
   "execution_count": 28,
   "metadata": {},
   "outputs": [
    {
     "data": {
      "text/plain": [
       "(0.999885435576831, 7.5686491283236265e-28, 0.02299241412711568)"
      ]
     },
     "execution_count": 28,
     "metadata": {},
     "output_type": "execute_result"
    }
   ],
   "source": [
    "model.score(measure='r2_adj', ts_report=True)"
   ]
  },
  {
   "cell_type": "code",
   "execution_count": 29,
   "metadata": {},
   "outputs": [
    {
     "name": "stderr",
     "output_type": "stream",
     "text": [
      "E:\\venv\\mpydge\\lib\\site-packages\\IPython\\core\\pylabtools.py:132: UserWarning: Creating legend with loc=\"best\" can be slow with large amounts of data.\n",
      "  fig.canvas.print_figure(bytes_io, **kw)\n"
     ]
    },
    {
     "data": {
      "image/png": "[encoded data removed]",
      "text/plain": [
       "<Figure size 720x720 with 8 Axes>"
      ]
     },
     "metadata": {
      "needs_background": "light"
     },
     "output_type": "display_data"
    }
   ],
   "source": [
    "model.ts_plot(ts.triple(0)[0], ts.triple(0)[2])"
   ]
  },
  {
   "cell_type": "code",
   "execution_count": null,
   "metadata": {},
   "outputs": [],
   "source": []
  }
 ],
 "metadata": {
  "kernelspec": {
   "display_name": "Python 3",
   "language": "python",
   "name": "python3"
  },
  "language_info": {
   "codemirror_mode": {
    "name": "ipython",
    "version": 3
   },
   "file_extension": ".py",
   "mimetype": "text/x-python",
   "name": "python",
   "nbconvert_exporter": "python",
   "pygments_lexer": "ipython3",
   "version": "3.8.3"
  }
 },
 "nbformat": 4,
 "nbformat_minor": 4
}
